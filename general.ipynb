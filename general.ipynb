{
 "cells": [
  {
   "cell_type": "code",
   "execution_count": 3,
   "metadata": {},
   "outputs": [],
   "source": [
    "from scipy.optimize import fsolve\n",
    "import numpy as np\n",
    "import matplotlib.pyplot as plt\n",
    "import math\n",
    "\n",
    "import tqdm"
   ]
  },
  {
   "cell_type": "code",
   "execution_count": 17,
   "metadata": {},
   "outputs": [],
   "source": [
    "def get_cloud(bounds_t, bounds_x, cuts_t, cuts_x, solve):\n",
    "\n",
    "\n",
    "    print(bounds_t, bounds_x, cuts_t, cuts_x, solve)\n",
    "\n",
    "    m = len(bounds_t)\n",
    "    n = len(bounds_x)\n",
    "\n",
    "    lower_bounds_t = list(map(lambda x: x[0], bounds_t))\n",
    "    upper_bounds_t = list(map(lambda x: x[1], bounds_t))\n",
    "\n",
    "    print(lower_bounds_t)\n",
    "    print(upper_bounds_t)\n",
    "\n",
    "    if (m != len(cuts_t) or n != len(cuts_x)):\n",
    "        raise ValueError(\"bounds and cuts must have the same length\")\n",
    "    \n",
    "    # Create target space\n",
    "    t = np.linspace(lower_bounds_t, upper_bounds_t, cuts_t[0])\n",
    "\n",
    "    print(t)\n"
   ]
  },
  {
   "cell_type": "code",
   "execution_count": 20,
   "metadata": {},
   "outputs": [
    {
     "name": "stdout",
     "output_type": "stream",
     "text": [
      "((0, 1), (0, 1), (0, 1)) ((0, 10),) (10, 10, 10) (10,) None\n",
      "[0, 0, 0]\n",
      "[1, 1, 1]\n",
      "[[0.         0.         0.        ]\n",
      " [0.11111111 0.11111111 0.11111111]\n",
      " [0.22222222 0.22222222 0.22222222]\n",
      " [0.33333333 0.33333333 0.33333333]\n",
      " [0.44444444 0.44444444 0.44444444]\n",
      " [0.55555556 0.55555556 0.55555556]\n",
      " [0.66666667 0.66666667 0.66666667]\n",
      " [0.77777778 0.77777778 0.77777778]\n",
      " [0.88888889 0.88888889 0.88888889]\n",
      " [1.         1.         1.        ]]\n"
     ]
    }
   ],
   "source": [
    "get_cloud(((0, 1), (0, 1), (0, 10)), ((0, 1),), (10, 10, 10), (10,), None)"
   ]
  }
 ],
 "metadata": {
  "kernelspec": {
   "display_name": "Python 3",
   "language": "python",
   "name": "python3"
  },
  "language_info": {
   "codemirror_mode": {
    "name": "ipython",
    "version": 3
   },
   "file_extension": ".py",
   "mimetype": "text/x-python",
   "name": "python",
   "nbconvert_exporter": "python",
   "pygments_lexer": "ipython3",
   "version": "3.10.12"
  },
  "orig_nbformat": 4
 },
 "nbformat": 4,
 "nbformat_minor": 2
}
