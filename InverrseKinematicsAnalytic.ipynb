{
 "cells": [
  {
   "cell_type": "code",
   "execution_count": 2,
   "metadata": {},
   "outputs": [],
   "source": [
    "from scipy.optimize import fsolve\n",
    "import numpy as np\n",
    "import matplotlib.pyplot as plt\n",
    "import math"
   ]
  },
  {
   "cell_type": "code",
   "execution_count": 3,
   "metadata": {},
   "outputs": [],
   "source": [
    "def equations(p):\n",
    "    tx, ty, a, b, c = p\n",
    "\n",
    "    eq1 = tx - math.cos(a) - math.cos(b) - math.cos(c)\n",
    "    eq2 = ty - math.sin(a) - math.sin(b) - math.sin(c)\n",
    "\n",
    "    return [eq1, eq2]"
   ]
  },
  {
   "cell_type": "code",
   "execution_count": 4,
   "metadata": {},
   "outputs": [],
   "source": [
    "#equation factory, tx, ty and either a, b or c are known\n",
    "def equations_factory(tx, ty, known, value):\n",
    "    def equations(p):\n",
    "\n",
    "        if known == 'a':\n",
    "            eq1 = tx - math.cos(value) - math.cos(p[0]) - math.cos(p[1])\n",
    "            eq2 = ty - math.sin(value) - math.sin(p[0]) - math.sin(p[1])\n",
    "        elif known == 'b':\n",
    "            eq1 = tx - math.cos(p[0]) - math.cos(value) - math.cos(p[1])\n",
    "            eq2 = ty - math.sin(p[0]) - math.sin(value) - math.sin(p[1])\n",
    "        elif known == 'c':\n",
    "            eq1 = tx - math.cos(p[0]) - math.cos(p[1]) - math.cos(value)\n",
    "            eq2 = ty - math.sin(p[0]) - math.sin(p[1]) - math.sin(value)\n",
    "\n",
    "        return [eq1, eq2]\n",
    "    return equations"
   ]
  },
  {
   "cell_type": "code",
   "execution_count": 5,
   "metadata": {},
   "outputs": [],
   "source": [
    "#solve equation with fsolve\n",
    "def solve(tx, ty, known, value, aproximation = (0, 0)):\n",
    "    equations = equations_factory(tx, ty, known, value)\n",
    "    return fsolve(equations, aproximation)"
   ]
  },
  {
   "cell_type": "code",
   "execution_count": 11,
   "metadata": {},
   "outputs": [
    {
     "name": "stdout",
     "output_type": "stream",
     "text": [
      "[-106.29055145   34.03392041]\n",
      "[-107.17798998   33.76325406]\n",
      "[-107.94076515   32.57963603]\n",
      "[-107.44430731   32.22365036]\n",
      "[-106.48788954   31.7426568 ]\n",
      "[-74.79202198   0.60265459]\n",
      "[-74.50621131   0.89229064]\n",
      "[-74.22198535   1.17420813]\n",
      "[-49.42715488 -23.11420576]\n",
      "[-49.74004873 -22.51659242]\n"
     ]
    },
    {
     "name": "stderr",
     "output_type": "stream",
     "text": [
      "/home/gregor/.local/lib/python3.10/site-packages/scipy/optimize/_minpack_py.py:178: RuntimeWarning: The iteration is not making good progress, as measured by the \n",
      "  improvement from the last ten iterations.\n",
      "  warnings.warn(msg, RuntimeWarning)\n"
     ]
    },
    {
     "data": {
      "image/png": "[encoded data removed]",
      "text/plain": [
       "<Figure size 640x480 with 1 Axes>"
      ]
     },
     "metadata": {},
     "output_type": "display_data"
    },
    {
     "name": "stdout",
     "output_type": "stream",
     "text": [
      "[[ 0.         -2.67055145  2.63392041]\n",
      " [ 0.69777778 -0.41798998  2.36325406]\n",
      " [ 1.39555556 -1.18076515  1.17963603]\n",
      " [ 2.09333333 -0.68430731  0.82365036]\n",
      " [ 2.79111111 -2.86788954  0.3426568 ]\n",
      " [ 0.34888889 -2.57202198  0.60265459]\n",
      " [ 1.04666667 -2.28621131  0.89229064]\n",
      " [ 1.74444444 -2.00198535  1.17420813]\n",
      " [ 2.44222222 -2.32715488 -1.13420576]\n",
      " [ 0.         -2.64004873 -0.53659242]]\n"
     ]
    }
   ],
   "source": [
    "N = 10\n",
    "a_sol = np.zeros((N, 3))\n",
    "b_sol = np.zeros((N, 3))\n",
    "c_sol = np.zeros((N, 3))\n",
    "\n",
    "aprox = np.zeros((1, 2))\n",
    "\n",
    "for i, ang in enumerate(np.linspace(0, 2*3.14, N)):\n",
    "    a_sol[i][1:3] = solve(1, 1, 'a', ang, aprox)\n",
    "    aprox = a_sol[i][1:3]\n",
    "    print(aprox)\n",
    "    #b_sol[i] = solve(1, 1, 'b', ang)\n",
    "    #c_sol[i] = solve(1, 1, 'c', ang)\n",
    "\n",
    "    a_sol[i][0] = ang\n",
    "    #b_sol[i][1] = ang\n",
    "    #c_sol[i][2] = ang\n",
    "\n",
    "\n",
    "a_sol = np.fmod(a_sol, 3.14)\n",
    "#b_sol = np.fmod(b_sol, 2*3.14)\n",
    "#c_sol = np.fmod(c_sol, 2*3.14)\n",
    "\n",
    "\n",
    "\n",
    "\n",
    "\n",
    "#plot as a line\n",
    "plt.scatter(a_sol[:,1], a_sol[:,2])\n",
    "\n",
    "\n",
    "\n",
    "#show\n",
    "plt.show()\n",
    "\n",
    "print(a_sol)\n",
    "\n",
    "\n"
   ]
  },
  {
   "cell_type": "code",
   "execution_count": 7,
   "metadata": {},
   "outputs": [],
   "source": [
    "def check_triple(tr):\n",
    "    a, b, c = tr\n",
    "    tx = math.cos(a) + math.cos(b) + math.cos(c)\n",
    "    ty = math.sin(a) + math.sin(b) + math.sin(c)\n",
    "    return tx, ty"
   ]
  },
  {
   "cell_type": "code",
   "execution_count": 12,
   "metadata": {},
   "outputs": [
    {
     "name": "stdout",
     "output_type": "stream",
     "text": [
      "\n",
      "0.0\n",
      "(-0.7649747583161901, 0.032330038971437436)\n",
      "\n",
      "0.6977777777777778\n",
      "(0.9680976069994836, 0.9386894804503495)\n",
      "\n",
      "1.3955555555555557\n",
      "(0.9358238066676356, 0.9842546905090108)\n",
      "\n",
      "2.0933333333333337\n",
      "(0.9553246286869957, 0.9680506807204025)\n",
      "\n",
      "2.7911111111111113\n",
      "(-0.9601187082636317, 0.40904218943305576)\n",
      "\n",
      "0.3488888888888888\n",
      "(0.9214543655564705, 0.3694147139874329)\n",
      "\n",
      "1.0466666666666673\n",
      "(0.472159359018299, 0.8894502008456955)\n",
      "\n",
      "1.744444444444445\n",
      "(-0.2044544355240161, 0.9988758262003948)\n",
      "\n",
      "2.4422222222222225\n",
      "(-1.0286727369651292, -0.9898024469744089)\n",
      "\n",
      "0.0\n",
      "(0.9826143397064813, -0.9919901932156208)\n"
     ]
    }
   ],
   "source": [
    "for i in range(N):\n",
    "    print()\n",
    "    print(a_sol[i][0])\n",
    "    print(check_triple(a_sol[i]))\n",
    "    #print(check_triple(b_sol[i]))\n",
    "    #print(check_triple(c_sol[i]))\n"
   ]
  }
 ],
 "metadata": {
  "kernelspec": {
   "display_name": "Python 3",
   "language": "python",
   "name": "python3"
  },
  "language_info": {
   "codemirror_mode": {
    "name": "ipython",
    "version": 3
   },
   "file_extension": ".py",
   "mimetype": "text/x-python",
   "name": "python",
   "nbconvert_exporter": "python",
   "pygments_lexer": "ipython3",
   "version": "3.10.12"
  },
  "orig_nbformat": 4
 },
 "nbformat": 4,
 "nbformat_minor": 2
}
